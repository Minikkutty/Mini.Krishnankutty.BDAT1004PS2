{
 "cells": [
  {
   "cell_type": "markdown",
   "id": "ff6a77a0",
   "metadata": {},
   "source": [
    "Question 1) What value is displayed when the last expression (a) is evaluated? Explain your \n",
    "answer by indicating what happens in every executed statement."
   ]
  },
  {
   "cell_type": "code",
   "execution_count": 253,
   "id": "aec5ea94",
   "metadata": {},
   "outputs": [
    {
     "data": {
      "text/plain": [
       "6"
      ]
     },
     "execution_count": 253,
     "metadata": {},
     "output_type": "execute_result"
    }
   ],
   "source": [
    "# variable a is assigned the value 0\n",
    "a = 0\n",
    "# Function named b is defined\n",
    "def b():\n",
    "# variabe a is declared as global. \n",
    " global a\n",
    "# a variable is assigned value\n",
    " a = c(a)\n",
    "# Function named c is defined.\n",
    "def c(a):\n",
    "# return the value\n",
    " return a + 2\n",
    "\n",
    "# b function is called. Here the value of b will be 2 as initial a + 2 will be 0+ 2 = 2\n",
    "b()\n",
    "# b function is called. Here the value of b will b 4 as the new value 2 is added with 2, 2+ 2 = 4\n",
    "b()\n",
    "# b function is called. Finally the value of b will be 6, as the new value 4 is added with 2 , 4 + 2 = 6\n",
    "b()\n",
    "# Final value stored in a will be 6\n",
    "a"
   ]
  },
  {
   "cell_type": "markdown",
   "id": "85dbf206",
   "metadata": {},
   "source": [
    "Question 2) Function fileLength(), given to you, takes the name of a file as input and returns \n",
    "the length of the file:\n",
    "Modify function fileLength() so that a \n",
    "friendly message is printed instead:"
   ]
  },
  {
   "cell_type": "code",
   "execution_count": 247,
   "id": "87c8b354",
   "metadata": {},
   "outputs": [],
   "source": [
    "def filelength(item):\n",
    " # Here the file item is searched and if found it will return the length. Try clause is used\n",
    "    try:                  \n",
    "        item = open(item)\n",
    "        # File contents are read\n",
    "        file = item.read()\n",
    "        item.close()\n",
    "        # Length of the file contents are printed\n",
    "        print(len(file))\n",
    "        \n",
    " # If the provided file is not found, then the error message with file not found is printed. Except clause is used\n",
    "    \n",
    "    except:                       \n",
    "        print('File {} not found.'.format(item))\n",
    "        print (\"\\n\")"
   ]
  },
  {
   "cell_type": "code",
   "execution_count": 12,
   "id": "a0c82f65",
   "metadata": {},
   "outputs": [
    {
     "name": "stdout",
     "output_type": "stream",
     "text": [
      "123\n"
     ]
    }
   ],
   "source": [
    "filelength('Filelength.txt')"
   ]
  },
  {
   "cell_type": "code",
   "execution_count": 248,
   "id": "400076d1",
   "metadata": {},
   "outputs": [
    {
     "name": "stdout",
     "output_type": "stream",
     "text": [
      "File lelength.txt not found.\n",
      "\n",
      "\n"
     ]
    }
   ],
   "source": [
    "filelength('lelength.txt')"
   ]
  },
  {
   "cell_type": "markdown",
   "id": "9bb9eed4",
   "metadata": {},
   "source": [
    "Question 3) Write a class named Marsupial that can be used as shown below:\n",
    ">>> m = Marsupial()\n",
    ">>> m.put_in_pouch('doll')\n",
    ">>> m.put_in_pouch('firetruck')\n",
    ">>> m.put_in_pouch('kitten')\n",
    ">>> m.pouch_contents()\n",
    "['doll', 'firetruck', 'kitten']"
   ]
  },
  {
   "cell_type": "code",
   "execution_count": 15,
   "id": "dbd58f15",
   "metadata": {},
   "outputs": [
    {
     "name": "stdout",
     "output_type": "stream",
     "text": [
      "['doll', 'firetruck', 'kitten']\n"
     ]
    }
   ],
   "source": [
    "class Marsupial:\n",
    "    #Constructor usage\n",
    "    def __init__(main):\n",
    "        main.animal = []\n",
    "\n",
    "    #Adding to the list\n",
    "    def put_in_pouch(main, items):\n",
    "        main.animal.append(items)\n",
    "\n",
    "    #Returning the List\n",
    "    def pouch_contents(main):\n",
    "        return main.animal\n",
    "\n",
    "m = Marsupial()\n",
    "m.put_in_pouch('doll')\n",
    "m.put_in_pouch('firetruck')\n",
    "m.put_in_pouch('kitten')\n",
    "print(m.pouch_contents()) "
   ]
  },
  {
   "cell_type": "code",
   "execution_count": 254,
   "id": "5eb59c21",
   "metadata": {},
   "outputs": [
    {
     "name": "stdout",
     "output_type": "stream",
     "text": [
      "I am a Kangaroo located at coordinates (0,0)\n",
      "['doll', 'firetruck', 'kitten']\n",
      "I am a Kangaroo located at coordinates (3,0)\n",
      "\n",
      "\n"
     ]
    }
   ],
   "source": [
    "class Marsupial:\n",
    "    #Constructor usage\n",
    "    def __init__(main):\n",
    "        main.animal = []\n",
    "\n",
    "    #Adding to the list\n",
    "    def put_in_pouch(main, items):\n",
    "        main.animal.append(items)\n",
    "\n",
    "    #Returning the List\n",
    "    def pouch_contents(main):\n",
    "        return main.animal\n",
    "\n",
    "\n",
    "class Kangaroo(Marsupial):\n",
    "\n",
    "    # a, Extending Constructor usage\n",
    "    def __init__(main, x, y):\n",
    "        Marsupial.__init__(main)\n",
    "        main.x = x\n",
    "        main.y = y\n",
    "\n",
    "    # b, Supporting Method Jump\n",
    "    def jump(main, dx, dy):\n",
    "        main.x = main.x + dx\n",
    "        main.y = main.y + dy\n",
    "\n",
    "    #c, Overloading the Str operator\n",
    "    def __str__(main):\n",
    "        return 'I am a Kangaroo located at coordinates ({},{})'.format(main.x, main.y)\n",
    "\n",
    "\n",
    "k = Kangaroo(0, 0)\n",
    "print(k)\n",
    "k.put_in_pouch('doll')\n",
    "k.put_in_pouch('firetruck')\n",
    "k.put_in_pouch('kitten')\n",
    "print(k.pouch_contents())\n",
    "k.jump(1, 0)\n",
    "k.jump(1, 0)\n",
    "k.jump(1, 0)\n",
    "print(k)\n",
    "print (\"\\n\")"
   ]
  },
  {
   "cell_type": "markdown",
   "id": "3332758b",
   "metadata": {},
   "source": [
    "Question 4) Write function collatz() that takes a positive integer x as input and prints the \n",
    "Collatz sequence starting at x. A Collatz sequence is obtained by repeatedly applying \n",
    "this rule to the previous number x in the sequence:"
   ]
  },
  {
   "cell_type": "code",
   "execution_count": 255,
   "id": "b2b4cedc",
   "metadata": {},
   "outputs": [
    {
     "name": "stdout",
     "output_type": "stream",
     "text": [
      "[1]\n",
      "[10, 5, 16, 8, 4, 2, 1]\n",
      "\n",
      "\n"
     ]
    }
   ],
   "source": [
    "def collatz(num): \n",
    "    ary= []; \n",
    "    while num > 1:\n",
    "        ary.append(num); \n",
    "        \n",
    "        if (num % 2): \n",
    "# Considering number is odd\n",
    "            num = 3 * num + 1\n",
    "        else: \n",
    "# Considering number is even\n",
    "             num = num//2   \n",
    "    ary.append(1);\n",
    "    return ary; \n",
    "    \n",
    "print(collatz(1))    \n",
    "print(collatz(10)) \n",
    "print (\"\\n\")"
   ]
  },
  {
   "cell_type": "markdown",
   "id": "00db4e7b",
   "metadata": {},
   "source": [
    "Question 5) Write a recursive method binary() that takes a non-negative \n",
    "integer n and prints the binary representation of integer n."
   ]
  },
  {
   "cell_type": "code",
   "execution_count": 146,
   "id": "71974e9e",
   "metadata": {},
   "outputs": [
    {
     "name": "stdout",
     "output_type": "stream",
     "text": [
      "0 \n",
      "\n",
      "1\n",
      "\n",
      "11\n",
      "\n",
      "1001\n",
      "\n"
     ]
    }
   ],
   "source": [
    "# Defining method Binary taking a non-negative integer\n",
    "def binary(intgr):\n",
    "    if intgr == 0:\n",
    "        return \"0\"\n",
    "    else:\n",
    "        binary(intgr // 2)\n",
    "        print(str(intgr % 2), end= \"\")\n",
    "\n",
    "print(binary(0), \"\\n\")\n",
    "binary(1)\n",
    "print (\"\\n\")\n",
    "binary(3)\n",
    "print (\"\\n\")\n",
    "binary(9)\n",
    "print (\"\\n\")\n"
   ]
  },
  {
   "cell_type": "markdown",
   "id": "f0b015f2",
   "metadata": {},
   "source": [
    "Question 6) Implement a class named HeadingParser that can be used to parse an HTML \n",
    "document, and retrieve and print all the headings in the document. You should \n",
    "implement your class as a subclass of HTMLParser, defined in Standard Library \n",
    "module html.parser."
   ]
  },
  {
   "cell_type": "code",
   "execution_count": 147,
   "id": "698cd974",
   "metadata": {},
   "outputs": [
    {
     "name": "stdout",
     "output_type": "stream",
     "text": [
      "  W3C Mission \n",
      "  \n",
      "\t \n",
      "   Principles \n",
      "   \n",
      " \n",
      "\n",
      "\n",
      " \n"
     ]
    }
   ],
   "source": [
    "#Standar library module html.parser is defined and library is imported\n",
    "from html.parser import HTMLParser            \n",
    "\n",
    "file = open(r'w3c.html')     \n",
    "text=str(file.read())\n",
    "\n",
    "# Implementing class named HeadingParser as subclass of HTMLParser\n",
    "class HeadingParser(HTMLParser):         \n",
    "  \n",
    "    def __init__(main):                    \n",
    "        HTMLParser.__init__(main)\n",
    "        main.flag = 0 \n",
    "    \n",
    "    def handle_starttag(self, tags, attribute):                     \n",
    "        \n",
    "        if tags == 'h1' or tags == 'h2' or tags == 'h3' or tags == 'h4' or tags =='h5' or tags == 'h6' or tags == 'h7':\n",
    "            self.flag = self.flag + 1                                     \n",
    "        else:\n",
    "            self.flag = 0\n",
    "            \n",
    "#Printing the heading of the HTML\n",
    "    def handle_data(heading, data):            \n",
    "        if heading.flag and data!='\\n':\n",
    "            \n",
    "            print('{} {} '.format(heading.flag*' ', data))\n",
    "\n",
    "\n",
    "parser = HeadingParser()                          \n",
    "parser.feed(text)"
   ]
  },
  {
   "cell_type": "markdown",
   "id": "0d55963d",
   "metadata": {},
   "source": [
    "Question 7) Implement recursive function webdir() that takes as input: a URL (as a string) and \n",
    "non-negative integers depth and indent. Your function should visit every web \n",
    "page reachable from the starting URL web page in depth clicks or less, and print \n",
    "each web page's URL."
   ]
  },
  {
   "cell_type": "code",
   "execution_count": 256,
   "id": "a5d4abfb",
   "metadata": {
    "scrolled": true
   },
   "outputs": [
    {
     "name": "stdout",
     "output_type": "stream",
     "text": [
      "https://reed.cs.depaul.edu/lperkovic/test1.html\n",
      "    http://reed.cs.depaul.edu/lperkovic/test2.html\n",
      "        http://reed.cs.depaul.edu/lperkovic/test4.html\n",
      "    https://reed.cs.depaul.edu/lperkovic/test3.html\n",
      "        https://reed.cs.depaul.edu/lperkovic/test4.html\n",
      "\n",
      "\n"
     ]
    }
   ],
   "source": [
    "from urllib.request import urlopen\n",
    "from urllib.parse import urljoin\n",
    "from html.parser import HTMLParser\n",
    "\n",
    "# Class for the Hyperlink\n",
    "class Web(HTMLParser): \n",
    "\n",
    "# Defining the URL and the parser\n",
    "    def __init__(main, url): \n",
    "        HTMLParser.__init__(main)\n",
    "        main.url = url\n",
    "        main.links = []\n",
    "\n",
    "# Defining the  hyperlink URLs in the given format\n",
    "    def handle_starttag(self, tags, attribute): \n",
    "        if tags == 'a':\n",
    "            for attrs in attribute:\n",
    "                if attrs[0] == 'href': # the URL of the page the link goes to\n",
    "                    abs = urljoin(self.url, attrs[1])\n",
    "                    if abs[:4] == 'http':\n",
    "                        self.links.append(abs)\n",
    "                        \n",
    "#Hyperlink URL is returned\n",
    "\n",
    "    def getLinks(self): \n",
    "        return self.links\n",
    "    \n",
    "def webdir(url,depth, indent):\n",
    "    #Depending on depth Value the list of links is found using recrusive method\n",
    "    \n",
    "    try:\n",
    "        d_val = int(depth)\n",
    "        i_val = int(indent)\n",
    "        \n",
    "        if d_val < 0 or i_val < 0:      \n",
    "            raise ValueError\n",
    "            \n",
    "        resource = urlopen(url)\n",
    "        content = resource.read().decode()\n",
    "        collector = Collector(url)\n",
    "        collector.feed(content)\n",
    "        links = collector.getLinks()              \n",
    "\n",
    "        if i_val == 0:\n",
    "            print('{}'.format(url))\n",
    "\n",
    "        i_val = i_val + 4\n",
    "        d_val = d_val-1\n",
    "        \n",
    "        # Looping of links\n",
    "        if d_val >= 0:\n",
    "            for link in links:                          \n",
    "                print('{}{}'.format(i_val*' ', link), end = '\\n')\n",
    "                if (d_val) > 0: \n",
    "                    webdir(link, d_val, i_val)          \n",
    "                \n",
    "    except ValueError:\n",
    "        print(\"Enter a correct value for depth or indent\")\n",
    "        \n",
    "webdir('https://reed.cs.depaul.edu/lperkovic/test1.html', 2, 0)\n",
    "print (\"\\n\")"
   ]
  },
  {
   "cell_type": "markdown",
   "id": "82fe77de",
   "metadata": {},
   "source": [
    "Question 8) Write SQL queries on the below database table that return: \n",
    "a) All the temperature data.\n",
    "b) All the cities, but without repetition.\n",
    "c) All the records for India.\n",
    "d) All the Fall records\n",
    "e) The city, country, and season for which the average rainfall is between 200 \n",
    "and 400 millimeters.\n",
    "f) The city and country for which the average Fall temperature is above 20 \n",
    "degrees, in increasing temperature order.\n",
    "g) The total annual rainfall for Cairo.\n",
    "h) The total rainfall for each season."
   ]
  },
  {
   "cell_type": "code",
   "execution_count": 258,
   "id": "46614c80",
   "metadata": {},
   "outputs": [
    {
     "data": {
      "text/plain": [
       "<sqlite3.Cursor at 0x258000a3b90>"
      ]
     },
     "execution_count": 258,
     "metadata": {},
     "output_type": "execute_result"
    }
   ],
   "source": [
    "#Creating SQL Table and inserting the details\n",
    "import sqlite3\n",
    "con = sqlite3.connect('MinisDatafile.db')\n",
    "cur = con.cursor()\n",
    "cur.execute(\"CREATE TABLE t_tables (City text, Country text, Season text,Temperature float,Rainfall float)\")\n",
    "cur.execute(\"INSERT INTO t_tables VALUES ('Mumbai', 'India', 'Winter',24.8 ,5.9)\")\n",
    "cur.execute(\"INSERT INTO t_tables VALUES ('Mumbai', 'India', 'Spring',28.4 ,16.2)\")\n",
    "cur.execute(\"INSERT INTO t_tables VALUES ('Mumbai', 'India', 'Summer',27.9 ,1549.4 )\")\n",
    "cur.execute(\"INSERT INTO t_tables VALUES ('Mumbai', 'India', 'Fall',27.6 ,346.0)\")\n",
    "cur.execute(\"INSERT INTO t_tables VALUES ('London', 'United Kingdom', 'Winter',4.2 ,207.7 )\")\n",
    "cur.execute(\"INSERT INTO t_tables VALUES ('London', 'United Kingdom', 'Spring',8.3 ,169.6)\")\n",
    "cur.execute(\"INSERT INTO t_tables VALUES ('London', 'United Kingdom', 'Summer',15.7 ,157.0)\")\n",
    "cur.execute(\"INSERT INTO t_tables VALUES ('London', 'United Kingdom', 'Fall',10.4 ,218.5)\")\n",
    "cur.execute(\"INSERT INTO t_tables VALUES ('Cairo', 'Egypt', 'Winter',13.6 , 16.5)\")\n",
    "cur.execute(\"INSERT INTO t_tables VALUES ('Cairo', 'Egypt', 'Spring',20.7 ,6.5)\")\n",
    "cur.execute(\"INSERT INTO t_tables VALUES ('Cairo', 'Egypt', 'Summer',27.7 ,0.1)\")\n",
    "cur.execute(\"INSERT INTO t_tables VALUES ('Cairo', 'Egypt', 'Fall',22.2 ,4.5)\")"
   ]
  },
  {
   "cell_type": "code",
   "execution_count": 260,
   "id": "e53eb947",
   "metadata": {},
   "outputs": [
    {
     "data": {
      "text/plain": [
       "[('Mumbai', 'India', 'Winter', 24.8, 5.9),\n",
       " ('Mumbai', 'India', 'Spring', 28.4, 16.2),\n",
       " ('Mumbai', 'India', 'Summer', 27.9, 1549.4),\n",
       " ('Mumbai', 'India', 'Fall', 27.6, 346.0),\n",
       " ('London', 'United Kingdom', 'Winter', 4.2, 207.7),\n",
       " ('London', 'United Kingdom', 'Spring', 8.3, 169.6),\n",
       " ('London', 'United Kingdom', 'Summer', 15.7, 157.0),\n",
       " ('London', 'United Kingdom', 'Fall', 10.4, 218.5),\n",
       " ('Cairo', 'Egypt', 'Winter', 13.6, 16.5),\n",
       " ('Cairo', 'Egypt', 'Spring', 20.7, 6.5),\n",
       " ('Cairo', 'Egypt', 'Summer', 27.7, 0.1),\n",
       " ('Cairo', 'Egypt', 'Fall', 22.2, 4.5)]"
      ]
     },
     "execution_count": 260,
     "metadata": {},
     "output_type": "execute_result"
    }
   ],
   "source": [
    "cur.execute('SELECT * FROM t_tables')\n",
    "cur.fetchall()"
   ]
  },
  {
   "cell_type": "markdown",
   "id": "71daba07",
   "metadata": {},
   "source": [
    "a) All the temperature data."
   ]
  },
  {
   "cell_type": "code",
   "execution_count": 239,
   "id": "06cf2548",
   "metadata": {},
   "outputs": [
    {
     "data": {
      "text/plain": [
       "[(24.8,),\n",
       " (28.4,),\n",
       " (27.9,),\n",
       " (27.6,),\n",
       " (4.2,),\n",
       " (8.3,),\n",
       " (15.7,),\n",
       " (10.4,),\n",
       " (13.6,),\n",
       " (20.7,),\n",
       " (27.7,),\n",
       " (22.2,)]"
      ]
     },
     "execution_count": 239,
     "metadata": {},
     "output_type": "execute_result"
    }
   ],
   "source": [
    "cur.execute('SELECT temperature FROM t_tables')\n",
    "cur.fetchall()"
   ]
  },
  {
   "cell_type": "markdown",
   "id": "703307cb",
   "metadata": {},
   "source": [
    "b) All the cities, but without repetition"
   ]
  },
  {
   "cell_type": "code",
   "execution_count": 240,
   "id": "c4d61d03",
   "metadata": {},
   "outputs": [
    {
     "data": {
      "text/plain": [
       "[('Mumbai',), ('London',), ('Cairo',)]"
      ]
     },
     "execution_count": 240,
     "metadata": {},
     "output_type": "execute_result"
    }
   ],
   "source": [
    "cur.execute('SELECT DISTINCT City FROM t_tables')\n",
    "cur.fetchall()"
   ]
  },
  {
   "cell_type": "markdown",
   "id": "a49d52e2",
   "metadata": {},
   "source": [
    "c)  All the records for India"
   ]
  },
  {
   "cell_type": "code",
   "execution_count": 241,
   "id": "3a2d29b3",
   "metadata": {},
   "outputs": [
    {
     "data": {
      "text/plain": [
       "[('Mumbai', 'India', 'Winter', 24.8, 5.9),\n",
       " ('Mumbai', 'India', 'Spring', 28.4, 16.2),\n",
       " ('Mumbai', 'India', 'Summer', 27.9, 1549.4),\n",
       " ('Mumbai', 'India', 'Fall', 27.6, 346.0)]"
      ]
     },
     "execution_count": 241,
     "metadata": {},
     "output_type": "execute_result"
    }
   ],
   "source": [
    "cur.execute(\"SELECT * FROM t_tables WHERE Country='India'\")\n",
    "cur.fetchall()"
   ]
  },
  {
   "cell_type": "code",
   "execution_count": null,
   "id": "3ba1b23d",
   "metadata": {},
   "outputs": [],
   "source": [
    "d) All the Fall records."
   ]
  },
  {
   "cell_type": "code",
   "execution_count": 242,
   "id": "fae5beeb",
   "metadata": {},
   "outputs": [
    {
     "data": {
      "text/plain": [
       "[('Mumbai', 'India', 'Fall', 27.6, 346.0),\n",
       " ('London', 'United Kingdom', 'Fall', 10.4, 218.5),\n",
       " ('Cairo', 'Egypt', 'Fall', 22.2, 4.5)]"
      ]
     },
     "execution_count": 242,
     "metadata": {},
     "output_type": "execute_result"
    }
   ],
   "source": [
    "cur.execute(\"SELECT * FROM t_tables WHERE Season='Fall'\")\n",
    "cur.fetchall()"
   ]
  },
  {
   "cell_type": "markdown",
   "id": "33fcf34b",
   "metadata": {},
   "source": [
    "e)  The city, country, and season for which the average rainfall is between 200 \n",
    "and 400 millimeters."
   ]
  },
  {
   "cell_type": "code",
   "execution_count": 243,
   "id": "c5296bc4",
   "metadata": {},
   "outputs": [
    {
     "data": {
      "text/plain": [
       "[('Mumbai', 'India', 'Fall'),\n",
       " ('London', 'United Kingdom', 'Winter'),\n",
       " ('London', 'United Kingdom', 'Fall')]"
      ]
     },
     "execution_count": 243,
     "metadata": {},
     "output_type": "execute_result"
    }
   ],
   "source": [
    "cur.execute(\"SELECT City, Country, Season FROM t_tables WHERE Rainfall BETWEEN 200 AND 400\")\n",
    "cur.fetchall()"
   ]
  },
  {
   "cell_type": "markdown",
   "id": "af3242c8",
   "metadata": {},
   "source": [
    "f) The city and country for which the average Fall temperature is above 20 \n",
    "degrees, in increasing temperature order."
   ]
  },
  {
   "cell_type": "code",
   "execution_count": 244,
   "id": "768ba115",
   "metadata": {},
   "outputs": [
    {
     "data": {
      "text/plain": [
       "[('Cairo', 'Egypt'), ('Mumbai', 'India')]"
      ]
     },
     "execution_count": 244,
     "metadata": {},
     "output_type": "execute_result"
    }
   ],
   "source": [
    "cur.execute(\"SELECT City,country FROM t_tables WHERE Season='Fall' AND temperature > 20 ORDER BY temperature ASC\")\n",
    "cur.fetchall()"
   ]
  },
  {
   "cell_type": "markdown",
   "id": "68d2a179",
   "metadata": {},
   "source": [
    "g)  The total annual rainfall for Cairo."
   ]
  },
  {
   "cell_type": "code",
   "execution_count": 245,
   "id": "8e35c0a5",
   "metadata": {},
   "outputs": [
    {
     "data": {
      "text/plain": [
       "[(27.6,)]"
      ]
     },
     "execution_count": 245,
     "metadata": {},
     "output_type": "execute_result"
    }
   ],
   "source": [
    "cur.execute(\"SELECT SUM(Rainfall) FROM t_tables WHERE City='Cairo'\")\n",
    "cur.fetchall()"
   ]
  },
  {
   "cell_type": "markdown",
   "id": "83fc971f",
   "metadata": {},
   "source": [
    "h) The total rainfall for each season."
   ]
  },
  {
   "cell_type": "code",
   "execution_count": 246,
   "id": "a85f0280",
   "metadata": {},
   "outputs": [
    {
     "data": {
      "text/plain": [
       "[(569.0,), (192.29999999999998,), (1706.5,), (230.1,)]"
      ]
     },
     "execution_count": 246,
     "metadata": {},
     "output_type": "execute_result"
    }
   ],
   "source": [
    "cur.execute(\"SELECT SUM(Rainfall) FROM t_tables GROUP BY Season\")\n",
    "cur.fetchall()"
   ]
  },
  {
   "cell_type": "markdown",
   "id": "21770950",
   "metadata": {},
   "source": [
    "Question 9) Write list comprehension expressions that use list words and generate the following lists:"
   ]
  },
  {
   "cell_type": "code",
   "execution_count": 101,
   "id": "6709f64e",
   "metadata": {},
   "outputs": [
    {
     "name": "stdout",
     "output_type": "stream",
     "text": [
      "['THE', 'QUICK', 'BROWN', 'FOX', 'JUMPS', 'OVER', 'THE', 'LAZY', 'DOG']\n"
     ]
    }
   ],
   "source": [
    "words = ['The', 'quick', 'brown', 'fox', 'jumps', 'over', 'the', 'lazy', 'dog']\n",
    "# For list A\n",
    "ListA_Upper = [item.upper() for item in words]    \n",
    "print(ListA_Upper)\n"
   ]
  },
  {
   "cell_type": "code",
   "execution_count": 103,
   "id": "4954b23f",
   "metadata": {},
   "outputs": [
    {
     "name": "stdout",
     "output_type": "stream",
     "text": [
      "['the', 'quick', 'brown', 'fox', 'jumps', 'over', 'the', 'lazy', 'dog']\n"
     ]
    }
   ],
   "source": [
    "# For list B\n",
    "ListB_Lower = [item.lower() for item in words]    \n",
    "print(ListB_Lower)"
   ]
  },
  {
   "cell_type": "code",
   "execution_count": 104,
   "id": "ccb0eb68",
   "metadata": {},
   "outputs": [
    {
     "name": "stdout",
     "output_type": "stream",
     "text": [
      "[3, 5, 5, 3, 5, 4, 3, 4, 3]\n"
     ]
    }
   ],
   "source": [
    "# For list C\n",
    "ListC_Length = [len(item) for item in words]    \n",
    "print(ListC_Length)"
   ]
  },
  {
   "cell_type": "code",
   "execution_count": 106,
   "id": "ac4a0e18",
   "metadata": {},
   "outputs": [
    {
     "name": "stdout",
     "output_type": "stream",
     "text": [
      "[['THE', 'the', 3], ['QUICK', 'quick', 5], ['BROWN', 'brown', 5], ['FOX', 'fox', 3], ['JUMPS', 'jumps', 5], ['OVER', 'over', 4], ['THE', 'the', 3], ['LAZY', 'lazy', 4], ['DOG', 'dog', 3]]\n"
     ]
    }
   ],
   "source": [
    "# For List D\n",
    "ListD_Total= [[item.upper(),item.lower(),len(item)] for item in words] \n",
    "print(ListD_Total)"
   ]
  },
  {
   "cell_type": "code",
   "execution_count": 108,
   "id": "3f9f1a93",
   "metadata": {},
   "outputs": [
    {
     "name": "stdout",
     "output_type": "stream",
     "text": [
      "['quick', 'brown', 'jumps', 'over', 'lazy']\n"
     ]
    }
   ],
   "source": [
    "# For List E\n",
    "ListE_Max = [item.lower() for item in words if len(item)>=4]         \n",
    "print(ListE_Max)"
   ]
  }
 ],
 "metadata": {
  "kernelspec": {
   "display_name": "Python 3 (ipykernel)",
   "language": "python",
   "name": "python3"
  },
  "language_info": {
   "codemirror_mode": {
    "name": "ipython",
    "version": 3
   },
   "file_extension": ".py",
   "mimetype": "text/x-python",
   "name": "python",
   "nbconvert_exporter": "python",
   "pygments_lexer": "ipython3",
   "version": "3.9.12"
  }
 },
 "nbformat": 4,
 "nbformat_minor": 5
}
